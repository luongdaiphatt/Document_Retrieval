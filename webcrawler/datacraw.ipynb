{
 "cells": [
  {
   "cell_type": "code",
   "execution_count": 1,
   "metadata": {},
   "outputs": [],
   "source": [
    "from bs4 import BeautifulSoup\n",
    "import requests\n",
    "import pandas as pd\n",
    "import re"
   ]
  },
  {
   "cell_type": "code",
   "execution_count": 2,
   "metadata": {},
   "outputs": [],
   "source": [
    "data = pd.DataFrame(columns=[\"title\", \"abstract\", \"source\", \"link\", \"topic\", \"time\", \"imglink\"])"
   ]
  },
  {
   "cell_type": "code",
   "execution_count": 3,
   "metadata": {},
   "outputs": [],
   "source": [
    "\n",
    "#url dùng để thu thập dữ liệu từ báo Lao Động\n",
    "u1 = \"https://laodong.vn/xa-hoi?page=\"\n",
    "u2 = \"https://laodong.vn/the-thao?page=\"\n",
    "u3 = \"https://laodong.vn/van-hoa?page=\"\n",
    "u4 = \"https://laodong.vn/kinh-doanh?page=\"\n",
    "u5 = \"https://laodong.vn/the-gioi?page=\"\n",
    "u6 = \"https://laodong.vn/thoi-su?page=\"\n",
    "u7 = \"https://laodong.vn/cong-doan?page=\"\n",
    "u8 = \"https://laodong.vn/giai-tri?page=\""
   ]
  },
  {
   "cell_type": "code",
   "execution_count": 6,
   "metadata": {},
   "outputs": [],
   "source": [
    "def laodong_topic(web_link):\n",
    "    if \"xa-hoi\" in web_link:\n",
    "        return \"Xã hội\"\n",
    "    elif \"the-thao\" in web_link:\n",
    "        return \"Thể thao\"\n",
    "    elif \"van-hoa\" in web_link:\n",
    "        return \"Văn hóa\"\n",
    "    elif \"giai-tri\" in web_link:\n",
    "        return \"Giải trí\"\n",
    "    elif \"kinh-doanh\" in web_link:\n",
    "        return \"Kinh doanh\"\n",
    "    elif \"the-gioi\" in web_link:\n",
    "        return \"Thế giới\"\n",
    "    elif \"thoi-su\" in web_link:\n",
    "        return \"Thời sự\"\n",
    "    elif \"cong-doan\" in web_link:\n",
    "        return \"Công đoàn\"\n",
    "    else:\n",
    "        return \"Unknown category\""
   ]
  },
  {
   "cell_type": "code",
   "execution_count": 5,
   "metadata": {},
   "outputs": [],
   "source": [
    "from urllib.parse import urlparse, parse_qs"
   ]
  },
  {
   "cell_type": "code",
   "execution_count": 7,
   "metadata": {},
   "outputs": [],
   "source": [
    "#lấy tiêu đề\n",
    "def find_all_articles_at_laodong(max_sl, web_link, data):\n",
    "  for i in range(1, max_sl + 1):\n",
    "    url = web_link + str(i)\n",
    "    response = requests.get(url)\n",
    "    soup = BeautifulSoup(response.content, \"html.parser\")\n",
    "    all_articles = soup.find_all('article', class_='v4 p2c m002')\n",
    "    for article in all_articles:\n",
    "      title = article.select_one('a.link-title h2.title').get_text(strip=True)\n",
    "      href = article.select_one('a.link-title')['href']\n",
    "      if article.select_one('div.chapeau'):\n",
    "        abstract = article.select_one('div.chapeau').get_text(strip=True)\n",
    "      else:\n",
    "        response2 = requests.get(href)\n",
    "        soup2 = BeautifulSoup(response2.content, \"html.parser\")\n",
    "        abstract = soup2.find('div', class_='chappeau').get_text(strip=True)\n",
    "      response2 = requests.get(href)\n",
    "      soup2 = BeautifulSoup(response2.content, \"html.parser\")\n",
    "      time = soup2.find('span', class_ = 'time')\n",
    "      if time:\n",
    "        time = time.get_text(strip=True).split(',')[1].strip().split(' ')\n",
    "        time = time[0] + \" \" + time[1]\n",
    "      image_link = article.select_one('img')['src']\n",
    "      parsed_url = urlparse(image_link)\n",
    "      image_link = f\"{parsed_url.scheme}://{parsed_url.netloc}{parsed_url.path}\"\n",
    "      data = data.append({\"title\" : title, \"abstract\": abstract, \"source\": \"Báo Lao Động\", \"link\" : href, \"topic\": laodong_topic(web_link), \"time\" : time, \"imglink\" : image_link}, ignore_index=True)\n",
    "  return data"
   ]
  },
  {
   "cell_type": "code",
   "execution_count": 8,
   "metadata": {},
   "outputs": [
    {
     "data": {
      "text/html": [
       "<div>\n",
       "<style scoped>\n",
       "    .dataframe tbody tr th:only-of-type {\n",
       "        vertical-align: middle;\n",
       "    }\n",
       "\n",
       "    .dataframe tbody tr th {\n",
       "        vertical-align: top;\n",
       "    }\n",
       "\n",
       "    .dataframe thead th {\n",
       "        text-align: right;\n",
       "    }\n",
       "</style>\n",
       "<table border=\"1\" class=\"dataframe\">\n",
       "  <thead>\n",
       "    <tr style=\"text-align: right;\">\n",
       "      <th></th>\n",
       "      <th>title</th>\n",
       "      <th>abstract</th>\n",
       "      <th>source</th>\n",
       "      <th>link</th>\n",
       "      <th>topic</th>\n",
       "      <th>time</th>\n",
       "      <th>imglink</th>\n",
       "    </tr>\n",
       "  </thead>\n",
       "  <tbody>\n",
       "  </tbody>\n",
       "</table>\n",
       "</div>"
      ],
      "text/plain": [
       "Empty DataFrame\n",
       "Columns: [title, abstract, source, link, topic, time, imglink]\n",
       "Index: []"
      ]
     },
     "execution_count": 8,
     "metadata": {},
     "output_type": "execute_result"
    }
   ],
   "source": [
    "\n",
    "#craft time\n",
    "data = find_all_articles_at_laodong(20, u1, data)\n",
    "data = find_all_articles_at_laodong(20, u2, data)\n",
    "data = find_all_articles_at_laodong(20, u3, data)\n",
    "data = find_all_articles_at_laodong(20, u4, data)\n",
    "data = find_all_articles_at_laodong(20, u5, data)\n",
    "data = find_all_articles_at_laodong(20, u6, data)\n",
    "data = find_all_articles_at_laodong(20, u7, data)\n",
    "data = find_all_articles_at_laodong(20, u8, data)\n",
    "data = data.drop_duplicates()\n",
    "data"
   ]
  },
  {
   "cell_type": "code",
   "execution_count": 9,
   "metadata": {},
   "outputs": [],
   "source": [
    "data.to_csv('laodong.csv', index = False, encoding = 'utf-8-sig')"
   ]
  }
 ],
 "metadata": {
  "kernelspec": {
   "display_name": "Python 3",
   "language": "python",
   "name": "python3"
  },
  "language_info": {
   "codemirror_mode": {
    "name": "ipython",
    "version": 3
   },
   "file_extension": ".py",
   "mimetype": "text/x-python",
   "name": "python",
   "nbconvert_exporter": "python",
   "pygments_lexer": "ipython3",
   "version": "3.10.9"
  }
 },
 "nbformat": 4,
 "nbformat_minor": 2
}
